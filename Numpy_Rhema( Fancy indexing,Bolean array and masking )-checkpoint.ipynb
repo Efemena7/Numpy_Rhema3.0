{
 "cells": [
  {
   "cell_type": "code",
   "execution_count": 1,
   "id": "35b0c177",
   "metadata": {},
   "outputs": [],
   "source": [
    "import numpy as np\n",
    "import matplotlib.pyplot as plt"
   ]
  },
  {
   "cell_type": "markdown",
   "id": "9ebd1b72",
   "metadata": {},
   "source": [
    "# FANCY INDEXING\n",
    "In NumPy, fancy indexing allows us to use an array of indices to access multiple array elements at once.\n",
    "Fancy indexing can perform more advanced and efficient array operations, including conditional filtering, sorting, and so on."
   ]
  },
  {
   "cell_type": "markdown",
   "id": "9b1da1e4",
   "metadata": {},
   "source": [
    "# Select Multiple Elements Using NumPy Fancy Indexing"
   ]
  },
  {
   "cell_type": "code",
   "execution_count": 4,
   "id": "c5282cdb",
   "metadata": {},
   "outputs": [
    {
     "name": "stdout",
     "output_type": "stream",
     "text": [
      "[0 3 6 8]\n"
     ]
    }
   ],
   "source": [
    "# create a numpy array\n",
    "array1 = np.array([1, 0, 3, 4, 2, 6, 9, 8])\n",
    "\n",
    "# select elements at index 1, 2, 5, 7\n",
    "select_elements = array1[[1, 2, 5, 7]]\n",
    "\n",
    "print(select_elements)"
   ]
  },
  {
   "cell_type": "markdown",
   "id": "c4e62bcf",
   "metadata": {},
   "source": [
    "# NumPy Fancy Indexing"
   ]
  },
  {
   "cell_type": "code",
   "execution_count": 5,
   "id": "ede7200a",
   "metadata": {},
   "outputs": [
    {
     "name": "stdout",
     "output_type": "stream",
     "text": [
      "Simple Indexing: 4\n",
      "Fancy Indexing: [0 3 6 8]\n"
     ]
    }
   ],
   "source": [
    "array1 = np.array([1, 0, 3, 4, 2, 6, 9, 8])\n",
    "\n",
    "# select a single element\n",
    "simple_indexing = array1[3]\n",
    "\n",
    "print(\"Simple Indexing:\",simple_indexing)   \n",
    "\n",
    "# select multiple elements\n",
    "fancy_indexing = array1[[1, 2, 5, 7]]\n",
    "\n",
    "print(\"Fancy Indexing:\",fancy_indexing)   "
   ]
  },
  {
   "cell_type": "markdown",
   "id": "d44b1aa9",
   "metadata": {},
   "source": [
    "# Fancy Indexing for Sorting NumPy Array"
   ]
  },
  {
   "cell_type": "code",
   "execution_count": 7,
   "id": "fae256f5",
   "metadata": {},
   "outputs": [
    {
     "name": "stdout",
     "output_type": "stream",
     "text": [
      "[1 2 3 4 5 6 7 8]\n"
     ]
    }
   ],
   "source": [
    "array1 = np.array([3, 2, 6, 1, 8, 5, 7, 4])\n",
    "\n",
    "# sort array1 using fancy indexing\n",
    "sorted_array = array1[np.argsort(array1)] # ASCENDING ORDER\n",
    "\n",
    "print(sorted_array)"
   ]
  },
  {
   "cell_type": "code",
   "execution_count": 8,
   "id": "47b17978",
   "metadata": {},
   "outputs": [
    {
     "name": "stdout",
     "output_type": "stream",
     "text": [
      "[8 7 6 5 4 3 2 1]\n"
     ]
    }
   ],
   "source": [
    "array1 = np.array([3, 2, 6, 1, 8, 5, 7, 4])\n",
    "\n",
    "# sort array1 using fancy indexing\n",
    "sorted_array = array1[np.argsort(-array1)] # DESCENDING ORDER\n",
    "\n",
    "print(sorted_array)"
   ]
  },
  {
   "cell_type": "code",
   "execution_count": null,
   "id": "c251ab31",
   "metadata": {},
   "outputs": [],
   "source": []
  },
  {
   "cell_type": "code",
   "execution_count": null,
   "id": "bbb27740",
   "metadata": {},
   "outputs": [],
   "source": []
  },
  {
   "cell_type": "code",
   "execution_count": null,
   "id": "84bebe6b",
   "metadata": {},
   "outputs": [],
   "source": []
  },
  {
   "cell_type": "code",
   "execution_count": null,
   "id": "717826c7",
   "metadata": {},
   "outputs": [],
   "source": []
  },
  {
   "cell_type": "code",
   "execution_count": null,
   "id": "3624fc07",
   "metadata": {},
   "outputs": [],
   "source": []
  },
  {
   "cell_type": "code",
   "execution_count": null,
   "id": "df41c080",
   "metadata": {},
   "outputs": [],
   "source": []
  },
  {
   "cell_type": "code",
   "execution_count": null,
   "id": "dc4a124a",
   "metadata": {},
   "outputs": [],
   "source": []
  },
  {
   "cell_type": "code",
   "execution_count": null,
   "id": "dae5192a",
   "metadata": {},
   "outputs": [],
   "source": []
  }
 ],
 "metadata": {
  "kernelspec": {
   "display_name": "Python 3 (ipykernel)",
   "language": "python",
   "name": "python3"
  },
  "language_info": {
   "codemirror_mode": {
    "name": "ipython",
    "version": 3
   },
   "file_extension": ".py",
   "mimetype": "text/x-python",
   "name": "python",
   "nbconvert_exporter": "python",
   "pygments_lexer": "ipython3",
   "version": "3.9.12"
  }
 },
 "nbformat": 4,
 "nbformat_minor": 5
}
